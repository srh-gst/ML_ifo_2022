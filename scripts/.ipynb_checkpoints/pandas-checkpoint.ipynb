{
 "cells": [
  {
   "cell_type": "markdown",
   "metadata": {},
   "source": [
    "# Working with pandas"
   ]
  },
  {
   "cell_type": "code",
   "execution_count": null,
   "metadata": {},
   "outputs": [],
   "source": [
    "import pandas as pd"
   ]
  },
  {
   "cell_type": "markdown",
   "metadata": {},
   "source": [
    "## Basic inspection and manipulation"
   ]
  },
  {
   "cell_type": "code",
   "execution_count": null,
   "metadata": {},
   "outputs": [],
   "source": [
    "FNAME = \"http://www.stat.ucla.edu/~rgould/datasets/twins.dat\"\n",
    "\n",
    "df = pd.read_csv(FNAME, sep='\\t')"
   ]
  },
  {
   "cell_type": "code",
   "execution_count": null,
   "metadata": {},
   "outputs": [],
   "source": [
    "df[\"WHITEL\"] = df[\"WHITEL\"].astype(bool)\n",
    "df[\"WHITEH\"] = df[\"WHITEH\"].astype(\"category\")\n",
    "df[\"LHRWAGEH\"] = pd.to_numeric(df[\"LHRWAGEH\"], errors=\"coerce\")"
   ]
  },
  {
   "cell_type": "code",
   "execution_count": null,
   "metadata": {},
   "outputs": [],
   "source": [
    "bools = ['WHITEH', 'MALEH', 'WHITEL', 'MALEL']\n",
    "df[bools] = df[bools].astype(bool)\n",
    "df['DMARRIED'] = df['DMARRIED'].astype('int8')\n",
    "df.info(memory_usage=True)"
   ]
  },
  {
   "cell_type": "code",
   "execution_count": null,
   "metadata": {},
   "outputs": [],
   "source": [
    "df[df[\"WHITEL\"] == 0].shape"
   ]
  },
  {
   "cell_type": "code",
   "execution_count": null,
   "metadata": {},
   "outputs": [],
   "source": [
    "df[\"WHITEL\"] == 0"
   ]
  },
  {
   "cell_type": "code",
   "execution_count": null,
   "metadata": {},
   "outputs": [],
   "source": [
    "sum(df[\"WHITEL\"] == 0)"
   ]
  },
  {
   "cell_type": "code",
   "execution_count": null,
   "metadata": {},
   "outputs": [],
   "source": [
    "df[(df[\"WHITEH\"] == 1) & (df[\"DEDUC1\"] != 0)].shape"
   ]
  },
  {
   "cell_type": "code",
   "execution_count": null,
   "metadata": {},
   "outputs": [],
   "source": [
    "df[df[\"WHITEH\"] != df[\"WHITEL\"]].shape"
   ]
  },
  {
   "cell_type": "code",
   "execution_count": null,
   "metadata": {},
   "outputs": [],
   "source": [
    "mask = (df[\"WHITEL\"] != 1) & (df[\"MALEL\"] != 1) & (df[\"EDUCL\"].isin((12, 14)))\n",
    "df[mask][\"AGE\"].mean()"
   ]
  },
  {
   "cell_type": "code",
   "execution_count": null,
   "metadata": {},
   "outputs": [],
   "source": [
    "df.groupby([\"MALEL\"])[[\"AGE\", \"DEDUC1\"]].agg([\"mean\", \"min\"])"
   ]
  },
  {
   "cell_type": "code",
   "execution_count": null,
   "metadata": {},
   "outputs": [],
   "source": [
    "df"
   ]
  },
  {
   "cell_type": "markdown",
   "metadata": {},
   "source": [
    "## Working with multiple DataFrames"
   ]
  },
  {
   "cell_type": "code",
   "execution_count": null,
   "metadata": {},
   "outputs": [],
   "source": [
    "d = {'employee': ['Hannes', 'Fabiana', 'George', 'Olga', 'Michael'],\n",
    "     'group': ['Accounting', 'Engineering', 'Engineering', 'HR', 'Janitor']}\n",
    "df1 = pd.DataFrame.from_dict(d)\n",
    "df1"
   ]
  },
  {
   "cell_type": "code",
   "execution_count": null,
   "metadata": {},
   "outputs": [],
   "source": [
    "t = [('Hannes', 2004), ('Fabiana', 2008), ('George', 2012), ('Olga', 2014), (\"Anna\", 2020)]\n",
    "df2 = pd.DataFrame.from_records(t, columns=[\"employee\", \"hire_date\"])\n",
    "df2"
   ]
  },
  {
   "cell_type": "code",
   "execution_count": null,
   "metadata": {},
   "outputs": [],
   "source": [
    "pd.concat([df1, df2])  # Stack on top of each other"
   ]
  },
  {
   "cell_type": "code",
   "execution_count": null,
   "metadata": {},
   "outputs": [],
   "source": [
    "pd.concat([df1, df2], axis=1)  # Stack next to each other"
   ]
  },
  {
   "cell_type": "code",
   "execution_count": null,
   "metadata": {},
   "outputs": [],
   "source": [
    "df1.merge(df2, left_on=\"employee\", right_on=\"employee\")  # SQL-like merging; beware the how parameter"
   ]
  },
  {
   "cell_type": "code",
   "execution_count": null,
   "metadata": {},
   "outputs": [],
   "source": [
    "df2 = df2.set_index(\"employee\")\n",
    "df1.join(df2, on=\"employee\")  # equivalent to above, but faster; beware the index & the how parameter"
   ]
  }
 ],
 "metadata": {
  "kernelspec": {
   "display_name": "Python 3 (ipykernel)",
   "language": "python",
   "name": "python3"
  },
  "language_info": {
   "codemirror_mode": {
    "name": "ipython",
    "version": 3
   },
   "file_extension": ".py",
   "mimetype": "text/x-python",
   "name": "python",
   "nbconvert_exporter": "python",
   "pygments_lexer": "ipython3",
   "version": "3.8.10"
  }
 },
 "nbformat": 4,
 "nbformat_minor": 2
}
